{
 "cells": [
  {
   "cell_type": "code",
   "execution_count": 1,
   "id": "5d718838-9e47-43bd-940b-080f9cf9bbdf",
   "metadata": {},
   "outputs": [
    {
     "name": "stdout",
     "output_type": "stream",
     "text": [
      "Requirement already satisfied: numpy in c:\\image_super_resolution\\isr\\lib\\site-packages (2.0.0)\n",
      "Requirement already satisfied: pandas in c:\\image_super_resolution\\isr\\lib\\site-packages (2.2.2)\n",
      "Requirement already satisfied: matplotlib in c:\\image_super_resolution\\isr\\lib\\site-packages (3.9.0)\n",
      "Requirement already satisfied: scikit-learn in c:\\image_super_resolution\\isr\\lib\\site-packages (1.5.0)\n",
      "Requirement already satisfied: opencv-python in c:\\image_super_resolution\\isr\\lib\\site-packages (4.10.0.84)\n",
      "Requirement already satisfied: pillow in c:\\image_super_resolution\\isr\\lib\\site-packages (10.3.0)\n",
      "Requirement already satisfied: torch in c:\\image_super_resolution\\isr\\lib\\site-packages (2.3.1)\n",
      "Requirement already satisfied: torchvision in c:\\image_super_resolution\\isr\\lib\\site-packages (0.18.1)\n",
      "Requirement already satisfied: python-dateutil>=2.8.2 in c:\\image_super_resolution\\isr\\lib\\site-packages (from pandas) (2.9.0.post0)\n",
      "Requirement already satisfied: pytz>=2020.1 in c:\\image_super_resolution\\isr\\lib\\site-packages (from pandas) (2024.1)\n",
      "Requirement already satisfied: tzdata>=2022.7 in c:\\image_super_resolution\\isr\\lib\\site-packages (from pandas) (2024.1)\n",
      "Requirement already satisfied: contourpy>=1.0.1 in c:\\image_super_resolution\\isr\\lib\\site-packages (from matplotlib) (1.2.1)\n",
      "Requirement already satisfied: cycler>=0.10 in c:\\image_super_resolution\\isr\\lib\\site-packages (from matplotlib) (0.12.1)\n",
      "Requirement already satisfied: fonttools>=4.22.0 in c:\\image_super_resolution\\isr\\lib\\site-packages (from matplotlib) (4.53.0)\n",
      "Requirement already satisfied: kiwisolver>=1.3.1 in c:\\image_super_resolution\\isr\\lib\\site-packages (from matplotlib) (1.4.5)\n",
      "Requirement already satisfied: packaging>=20.0 in c:\\image_super_resolution\\isr\\lib\\site-packages (from matplotlib) (24.1)\n",
      "Requirement already satisfied: pyparsing>=2.3.1 in c:\\image_super_resolution\\isr\\lib\\site-packages (from matplotlib) (3.1.2)\n",
      "Requirement already satisfied: scipy>=1.6.0 in c:\\image_super_resolution\\isr\\lib\\site-packages (from scikit-learn) (1.13.1)\n",
      "Requirement already satisfied: joblib>=1.2.0 in c:\\image_super_resolution\\isr\\lib\\site-packages (from scikit-learn) (1.4.2)\n",
      "Requirement already satisfied: threadpoolctl>=3.1.0 in c:\\image_super_resolution\\isr\\lib\\site-packages (from scikit-learn) (3.5.0)\n",
      "Requirement already satisfied: filelock in c:\\image_super_resolution\\isr\\lib\\site-packages (from torch) (3.15.1)\n",
      "Requirement already satisfied: typing-extensions>=4.8.0 in c:\\image_super_resolution\\isr\\lib\\site-packages (from torch) (4.12.2)\n",
      "Requirement already satisfied: sympy in c:\\image_super_resolution\\isr\\lib\\site-packages (from torch) (1.12.1)\n",
      "Requirement already satisfied: networkx in c:\\image_super_resolution\\isr\\lib\\site-packages (from torch) (3.3)\n",
      "Requirement already satisfied: jinja2 in c:\\image_super_resolution\\isr\\lib\\site-packages (from torch) (3.1.4)\n",
      "Requirement already satisfied: fsspec in c:\\image_super_resolution\\isr\\lib\\site-packages (from torch) (2024.6.0)\n",
      "Requirement already satisfied: mkl<=2021.4.0,>=2021.1.1 in c:\\image_super_resolution\\isr\\lib\\site-packages (from torch) (2021.4.0)\n",
      "Requirement already satisfied: intel-openmp==2021.* in c:\\image_super_resolution\\isr\\lib\\site-packages (from mkl<=2021.4.0,>=2021.1.1->torch) (2021.4.0)\n",
      "Requirement already satisfied: tbb==2021.* in c:\\image_super_resolution\\isr\\lib\\site-packages (from mkl<=2021.4.0,>=2021.1.1->torch) (2021.12.0)\n",
      "Requirement already satisfied: six>=1.5 in c:\\image_super_resolution\\isr\\lib\\site-packages (from python-dateutil>=2.8.2->pandas) (1.16.0)\n",
      "Requirement already satisfied: MarkupSafe>=2.0 in c:\\image_super_resolution\\isr\\lib\\site-packages (from jinja2->torch) (2.1.5)\n",
      "Requirement already satisfied: mpmath<1.4.0,>=1.1.0 in c:\\image_super_resolution\\isr\\lib\\site-packages (from sympy->torch) (1.3.0)\n"
     ]
    }
   ],
   "source": [
    "!pip install numpy pandas matplotlib scikit-learn opencv-python pillow torch torchvision"
   ]
  },
  {
   "cell_type": "code",
   "execution_count": 3,
   "id": "bb5690ba-9eeb-45b1-a5e7-4410dd04596d",
   "metadata": {},
   "outputs": [],
   "source": [
    "from PIL import Image\n",
    "import os"
   ]
  },
  {
   "cell_type": "raw",
   "id": "4e0117df-680f-4453-9d08-85f194da1b3e",
   "metadata": {},
   "source": []
  }
 ],
 "metadata": {
  "kernelspec": {
   "display_name": "isr_ker",
   "language": "python",
   "name": "isr"
  },
  "language_info": {
   "codemirror_mode": {
    "name": "ipython",
    "version": 3
   },
   "file_extension": ".py",
   "mimetype": "text/x-python",
   "name": "python",
   "nbconvert_exporter": "python",
   "pygments_lexer": "ipython3",
   "version": "3.11.9"
  }
 },
 "nbformat": 4,
 "nbformat_minor": 5
}
